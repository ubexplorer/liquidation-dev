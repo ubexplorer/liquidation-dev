{
 "cells": [
  {
   "cell_type": "markdown",
   "metadata": {},
   "source": [
    "## Get Setam Auctions"
   ]
  },
  {
   "cell_type": "code",
   "metadata": {
    "jupyter": {
     "is_executing": true
    }
   },
   "source": [
    "\n",
    "from bs4 import BeautifulSoup\n",
    "import pandas as pd\n",
    "import requests\n",
    "import time\n",
    "\n",
    "\n",
    "def get_setam_data(url, vp_num):\n",
    "    headers = (\n",
    "        {'User-Agent': 'Mozilla/5.0 (Windows NT 10.0; Win64; x64) AppleWebKit/537.36 (KHTML, like Gecko) Chrome/133.0.0.0 Safari/537.36'\n",
    "         }\n",
    "    )\n",
    "    webpage = requests.get(url=url, headers=headers)\n",
    "    soup = BeautifulSoup(webpage.content, 'html.parser')\n",
    "    results = soup.find_all(attrs={'class': 'auctions-item'})\n",
    "    data_results = []\n",
    "\n",
    "    for result in results:\n",
    "        title_item = result.find(attrs={'class': 'title-item'})\n",
    "        item_url = title_item.find('a').attrs['href']\n",
    "        item_title = title_item.find('h3').text\n",
    "        annotation_item = result.find(attrs={'class': 'annotation-item'})\n",
    "        region_item = annotation_item.find(attrs={'class': 'region-item'}).get_text().replace('\\n', '').split(': ')\n",
    "        number_item = annotation_item.find(attrs={'class': 'number-item'}).get_text().replace('\\n', '').split(': ')\n",
    "        start_price_item = annotation_item.find(attrs={'class': 'start-price-item'}).get_text().replace('\\n', '').split(': ')\n",
    "        payment_item = annotation_item.find(attrs={'class': 'payment-item'}).get_text().replace('\\n', '').split(': ')\n",
    "        condition_item = annotation_item.find(attrs={'class': 'condition-item'}).get_text().replace('\\n', '').split(': ')\n",
    "        start_date_item = annotation_item.find(attrs={'class': 'start-date-item'}).get_text().replace('\\n', '').split(': ')\n",
    "\n",
    "        data_result = {\n",
    "            'АСВП №': vp_num,\n",
    "            'Заголовок аукціону': item_title,\n",
    "            'Область': region_item[1],\n",
    "            'Номер лоту': number_item[1],\n",
    "            'Початкова ціна': start_price_item[1],\n",
    "            'Гарантійний внесок': payment_item[1],\n",
    "            'Стан аукціону': condition_item[1],\n",
    "            'Дата початку': start_date_item[1],\n",
    "            'Гіперпосилання': 'https://setam.net.ua{}'.format(item_url),\n",
    "            }\n",
    "        data_results.append(data_result)\n",
    "\n",
    "    return data_results\n",
    "\n",
    "BASE_URL = \"https://setam.net.ua/auctions/filters/provadjenia\"\n",
    "data_results = []\n",
    "\n",
    "dataset = pd.read_excel(\"data/vp-test.xlsx\",sheet_name=\"АСВП\", engine='openpyxl', na_values='...').fillna('') # engine='openpyxl' ,engine=\"xlrd\"\n",
    "for row in dataset.itertuples():\n",
    "    vpOrderNum = row.vpOrderNum\n",
    "    url = \"{}={};\".format(BASE_URL, vpOrderNum)\n",
    "    data = get_setam_data(url=url, vp_num=vpOrderNum)\n",
    "    data_results.extend(data)\n",
    "    print(\"Кількість аукціонів за ВП №{}: {}\".format(vpOrderNum, len(data)))\n",
    "    time.sleep(5)\n",
    "\n",
    "result_data = pd.DataFrame(data_results)\n",
    "with pd.ExcelWriter('data/vp-test.xlsx', mode='a', engine='openpyxl', if_sheet_exists='overlay') as writer:\n",
    "    result_data.to_excel(writer, sheet_name=\"СЕТАМ\", index=False)\n",
    "# result_data.to_excel('data/setam.xlsx', index=False)\n",
    "print('Обробку завершено.')\n"
   ],
   "outputs": [],
   "execution_count": null
  },
  {
   "cell_type": "markdown",
   "metadata": {},
   "source": [
    "## Save DataFrame to existing Excel File"
   ]
  },
  {
   "cell_type": "code",
   "execution_count": 5,
   "metadata": {},
   "outputs": [],
   "source": [
    "import pandas as pd\n",
    "\n",
    "\n",
    "# mydataframe = pd.DataFrame({'Headers': ['Date1', 'Date2'],\n",
    "#                             'DatesA': ['20.10.2023', '21/10/2023'],\n",
    "#                             'DatesB': ['20.10.2023', '21/10/2023']\n",
    "#                             })\n",
    "# mydataframe[\"DatesA\"] = mydataframe[\"DatesA\"].apply(pd.to_datetime, dayfirst=True)\n",
    "# print(mydataframe.dtypes)\n",
    "\n",
    "mydataframe = pd.read_excel(\"data/vp-test.xlsx\",sheet_name=\"АСВП\", engine='openpyxl', na_values='...').fillna('') # engine='openpyxl' ,engine=\"xlrd\"\n",
    "with pd.ExcelWriter('data/vp-test.xlsx', mode='a', engine='openpyxl', if_sheet_exists='overlay') as writer:\n",
    "    mydataframe.to_excel(writer, sheet_name=\"СЕТАМ\", index=False)\n",
    "\n",
    "    # sheet = writer.sheets['СЕТАМ'] # Openpyxl worksheet\n",
    "    # # sheet[\"A1\"].number_format = 'dd.mm.yyyy'\n",
    "    # for cell in sheet['B']: # Loop column B \n",
    "    #     if cell.row == 1:  # Skip row 1 \n",
    "    #         continue\n",
    "    #     ### Apply number format to all cells in Column B to max used row\n",
    "    #     cell.number_format = 'dd.mm.yyyy' \n"
   ]
  }
 ],
 "metadata": {
  "kernelspec": {
   "display_name": "env",
   "language": "python",
   "name": "python3"
  },
  "language_info": {
   "codemirror_mode": {
    "name": "ipython",
    "version": 3
   },
   "file_extension": ".py",
   "mimetype": "text/x-python",
   "name": "python",
   "nbconvert_exporter": "python",
   "pygments_lexer": "ipython3",
   "version": "3.10.5"
  }
 },
 "nbformat": 4,
 "nbformat_minor": 2
}
